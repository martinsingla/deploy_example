{
 "cells": [
  {
   "cell_type": "code",
   "execution_count": 9,
   "metadata": {
    "id": "DVGu8EUM3GSn"
   },
   "outputs": [],
   "source": [
    "import os\n",
    "import pickle\n",
    "import pandas as pd\n",
    "import matplotlib.pyplot as plt\n",
    "import numpy as np\n",
    "from sklearn import tree\n",
    "\n",
    "pd.set_option('display.max_columns', None)"
   ]
  },
  {
   "cell_type": "code",
   "execution_count": 16,
   "metadata": {
    "colab": {
     "base_uri": "https://localhost:8080/",
     "height": 204
    },
    "id": "1kFBL93L3SdB",
    "outputId": "f11c037f-3ad6-43ba-ab4a-bb19d919e10c"
   },
   "outputs": [
    {
     "data": {
      "text/html": [
       "<div>\n",
       "<style scoped>\n",
       "    .dataframe tbody tr th:only-of-type {\n",
       "        vertical-align: middle;\n",
       "    }\n",
       "\n",
       "    .dataframe tbody tr th {\n",
       "        vertical-align: top;\n",
       "    }\n",
       "\n",
       "    .dataframe thead th {\n",
       "        text-align: right;\n",
       "    }\n",
       "</style>\n",
       "<table border=\"1\" class=\"dataframe\">\n",
       "  <thead>\n",
       "    <tr style=\"text-align: right;\">\n",
       "      <th></th>\n",
       "      <th>superficie_total</th>\n",
       "      <th>dormitorios</th>\n",
       "      <th>baños</th>\n",
       "      <th>cocheras</th>\n",
       "      <th>precio</th>\n",
       "      <th>ALVARO OBREGON</th>\n",
       "      <th>AZCAPOTZALCO</th>\n",
       "      <th>BENITO JUAREZ</th>\n",
       "      <th>COYOACAN</th>\n",
       "      <th>CUAJIMALPA DE MORELOS</th>\n",
       "      <th>CUAUHTEMOC</th>\n",
       "      <th>GUSTAVO A. MADERO</th>\n",
       "      <th>IZTACALCO</th>\n",
       "      <th>IZTAPALAPA</th>\n",
       "      <th>LA MAGDALENA CONTRERAS</th>\n",
       "      <th>MIGUEL HIDALGO</th>\n",
       "      <th>MILPA ALTA</th>\n",
       "      <th>TLAHUAC</th>\n",
       "      <th>TLALPAN</th>\n",
       "      <th>VENUSTIANO CARRANZA</th>\n",
       "      <th>XOCHIMILCO</th>\n",
       "      <th>casa</th>\n",
       "      <th>departamento</th>\n",
       "    </tr>\n",
       "  </thead>\n",
       "  <tbody>\n",
       "    <tr>\n",
       "      <th>0</th>\n",
       "      <td>248.0</td>\n",
       "      <td>3.0</td>\n",
       "      <td>4.5</td>\n",
       "      <td>3.0</td>\n",
       "      <td>2510000.0</td>\n",
       "      <td>0</td>\n",
       "      <td>0</td>\n",
       "      <td>0</td>\n",
       "      <td>0</td>\n",
       "      <td>0</td>\n",
       "      <td>0</td>\n",
       "      <td>0</td>\n",
       "      <td>0</td>\n",
       "      <td>0</td>\n",
       "      <td>1</td>\n",
       "      <td>0</td>\n",
       "      <td>0</td>\n",
       "      <td>0</td>\n",
       "      <td>0</td>\n",
       "      <td>0</td>\n",
       "      <td>0</td>\n",
       "      <td>1</td>\n",
       "      <td>0</td>\n",
       "    </tr>\n",
       "    <tr>\n",
       "      <th>1</th>\n",
       "      <td>109.0</td>\n",
       "      <td>3.0</td>\n",
       "      <td>2.0</td>\n",
       "      <td>3.0</td>\n",
       "      <td>1253834.0</td>\n",
       "      <td>1</td>\n",
       "      <td>0</td>\n",
       "      <td>0</td>\n",
       "      <td>0</td>\n",
       "      <td>0</td>\n",
       "      <td>0</td>\n",
       "      <td>0</td>\n",
       "      <td>0</td>\n",
       "      <td>0</td>\n",
       "      <td>0</td>\n",
       "      <td>0</td>\n",
       "      <td>0</td>\n",
       "      <td>0</td>\n",
       "      <td>0</td>\n",
       "      <td>0</td>\n",
       "      <td>0</td>\n",
       "      <td>1</td>\n",
       "      <td>0</td>\n",
       "    </tr>\n",
       "    <tr>\n",
       "      <th>2</th>\n",
       "      <td>336.0</td>\n",
       "      <td>3.0</td>\n",
       "      <td>3.0</td>\n",
       "      <td>3.0</td>\n",
       "      <td>950000.0</td>\n",
       "      <td>0</td>\n",
       "      <td>0</td>\n",
       "      <td>0</td>\n",
       "      <td>0</td>\n",
       "      <td>1</td>\n",
       "      <td>0</td>\n",
       "      <td>0</td>\n",
       "      <td>0</td>\n",
       "      <td>0</td>\n",
       "      <td>0</td>\n",
       "      <td>0</td>\n",
       "      <td>0</td>\n",
       "      <td>0</td>\n",
       "      <td>0</td>\n",
       "      <td>0</td>\n",
       "      <td>0</td>\n",
       "      <td>0</td>\n",
       "      <td>1</td>\n",
       "    </tr>\n",
       "    <tr>\n",
       "      <th>3</th>\n",
       "      <td>336.0</td>\n",
       "      <td>3.0</td>\n",
       "      <td>3.0</td>\n",
       "      <td>3.0</td>\n",
       "      <td>950000.0</td>\n",
       "      <td>0</td>\n",
       "      <td>0</td>\n",
       "      <td>0</td>\n",
       "      <td>0</td>\n",
       "      <td>1</td>\n",
       "      <td>0</td>\n",
       "      <td>0</td>\n",
       "      <td>0</td>\n",
       "      <td>0</td>\n",
       "      <td>0</td>\n",
       "      <td>0</td>\n",
       "      <td>0</td>\n",
       "      <td>0</td>\n",
       "      <td>0</td>\n",
       "      <td>0</td>\n",
       "      <td>0</td>\n",
       "      <td>0</td>\n",
       "      <td>1</td>\n",
       "    </tr>\n",
       "    <tr>\n",
       "      <th>4</th>\n",
       "      <td>100.0</td>\n",
       "      <td>3.0</td>\n",
       "      <td>2.0</td>\n",
       "      <td>3.0</td>\n",
       "      <td>8500000.0</td>\n",
       "      <td>0</td>\n",
       "      <td>0</td>\n",
       "      <td>1</td>\n",
       "      <td>0</td>\n",
       "      <td>0</td>\n",
       "      <td>0</td>\n",
       "      <td>0</td>\n",
       "      <td>0</td>\n",
       "      <td>0</td>\n",
       "      <td>0</td>\n",
       "      <td>0</td>\n",
       "      <td>0</td>\n",
       "      <td>0</td>\n",
       "      <td>0</td>\n",
       "      <td>0</td>\n",
       "      <td>0</td>\n",
       "      <td>0</td>\n",
       "      <td>1</td>\n",
       "    </tr>\n",
       "  </tbody>\n",
       "</table>\n",
       "</div>"
      ],
      "text/plain": [
       "   superficie_total  dormitorios  baños  cocheras     precio  ALVARO OBREGON  \\\n",
       "0             248.0          3.0    4.5       3.0  2510000.0               0   \n",
       "1             109.0          3.0    2.0       3.0  1253834.0               1   \n",
       "2             336.0          3.0    3.0       3.0   950000.0               0   \n",
       "3             336.0          3.0    3.0       3.0   950000.0               0   \n",
       "4             100.0          3.0    2.0       3.0  8500000.0               0   \n",
       "\n",
       "   AZCAPOTZALCO  BENITO JUAREZ  COYOACAN  CUAJIMALPA DE MORELOS  CUAUHTEMOC  \\\n",
       "0             0              0         0                      0           0   \n",
       "1             0              0         0                      0           0   \n",
       "2             0              0         0                      1           0   \n",
       "3             0              0         0                      1           0   \n",
       "4             0              1         0                      0           0   \n",
       "\n",
       "   GUSTAVO A. MADERO  IZTACALCO  IZTAPALAPA  LA MAGDALENA CONTRERAS  \\\n",
       "0                  0          0           0                       1   \n",
       "1                  0          0           0                       0   \n",
       "2                  0          0           0                       0   \n",
       "3                  0          0           0                       0   \n",
       "4                  0          0           0                       0   \n",
       "\n",
       "   MIGUEL HIDALGO  MILPA ALTA  TLAHUAC  TLALPAN  VENUSTIANO CARRANZA  \\\n",
       "0               0           0        0        0                    0   \n",
       "1               0           0        0        0                    0   \n",
       "2               0           0        0        0                    0   \n",
       "3               0           0        0        0                    0   \n",
       "4               0           0        0        0                    0   \n",
       "\n",
       "   XOCHIMILCO  casa  departamento  \n",
       "0           0     1             0  \n",
       "1           0     1             0  \n",
       "2           0     0             1  \n",
       "3           0     0             1  \n",
       "4           0     0             1  "
      ]
     },
     "execution_count": 16,
     "metadata": {},
     "output_type": "execute_result"
    }
   ],
   "source": [
    "# Load and clean data\n",
    "\n",
    "data = pd.read_csv('04_data_total_clean.csv')\n",
    "data=data.dropna(how='any')\n",
    "data['precio'] = data['precio_m2'] * data['superficie_total'] \n",
    "data= pd.concat([data, pd.get_dummies(data['alcaldia'])], axis=1)\n",
    "#data= pd.concat([data, pd.get_dummies(data['colonia'])], axis=1)\n",
    "data= pd.concat([data, pd.get_dummies(data['categoria'])], axis=1)\n",
    "data = data.drop(columns= ['alcaldia', 'colonia', 'Unnamed: 0', 'Unnamed: 0.1', 'categoria', 'precio_m2', 'lat', 'lng'])\n",
    "data.head()"
   ]
  },
  {
   "cell_type": "code",
   "execution_count": 17,
   "metadata": {},
   "outputs": [],
   "source": [
    "#Prepare X/Y and train/test for model\n",
    "\n",
    "y = data['precio']\n",
    "x= data.drop(columns= ['precio'])\n",
    "\n",
    "from sklearn.model_selection import train_test_split\n",
    "y_train, y_test, x_train, x_test = train_test_split(y, x, random_state=42)"
   ]
  },
  {
   "cell_type": "code",
   "execution_count": 18,
   "metadata": {},
   "outputs": [],
   "source": [
    "#Fit random forest model\n",
    "\n",
    "from sklearn.ensemble import RandomForestRegressor\n",
    "\n",
    "rf = RandomForestRegressor(n_estimators= 200)\n",
    "rf = rf.fit(x_train, y_train)"
   ]
  },
  {
   "cell_type": "code",
   "execution_count": 19,
   "metadata": {},
   "outputs": [
    {
     "data": {
      "text/plain": [
       "0.568562113689761"
      ]
     },
     "execution_count": 19,
     "metadata": {},
     "output_type": "execute_result"
    }
   ],
   "source": [
    "rf.score(x_test, y_test)"
   ]
  },
  {
   "cell_type": "code",
   "execution_count": 20,
   "metadata": {},
   "outputs": [],
   "source": [
    "predictors = np.array([[x_test.iloc[i,:]] for i in  range(0, len(x_test))])\n",
    "predictions = []\n",
    "\n",
    "for i in range(0, len(predictors)):\n",
    "    #print('predicting', i)\n",
    "    predictions.append(rf.predict(predictors[i]))"
   ]
  },
  {
   "cell_type": "code",
   "execution_count": 21,
   "metadata": {},
   "outputs": [
    {
     "data": {
      "text/plain": [
       "<matplotlib.collections.PathCollection at 0x7f99f4d7ba90>"
      ]
     },
     "execution_count": 21,
     "metadata": {},
     "output_type": "execute_result"
    },
    {
     "data": {
      "image/png": "[encoded data removed]",
      "text/plain": [
       "<Figure size 432x288 with 1 Axes>"
      ]
     },
     "metadata": {
      "needs_background": "light"
     },
     "output_type": "display_data"
    }
   ],
   "source": [
    "test = pd.DataFrame()\n",
    "test['observed'] = y_test\n",
    "test['predicted'] = [predictions[i][0] for i in range(0, len(test))]\n",
    "test['diff'] = (test['predicted'] - test['observed'])**2\n",
    "test\n",
    "\n",
    "plt.scatter(test['observed'], test['predicted'])"
   ]
  },
  {
   "cell_type": "code",
   "execution_count": 24,
   "metadata": {
    "colab": {
     "base_uri": "https://localhost:8080/"
    },
    "id": "rDYSh02y34K-",
    "outputId": "05c0d284-cc50-4f83-eecf-0fe5e0472983"
   },
   "outputs": [
    {
     "data": {
      "text/plain": [
       "[(0.6820458052238152, 'superficie_total'),\n",
       " (0.0588578057589444, 'cocheras'),\n",
       " (0.058498406032293865, 'baños'),\n",
       " (0.038754462710079186, 'MIGUEL HIDALGO'),\n",
       " (0.03775085013088912, 'dormitorios'),\n",
       " (0.01901351984311274, 'GUSTAVO A. MADERO'),\n",
       " (0.01850165656757399, 'casa'),\n",
       " (0.0151952274517006, 'CUAJIMALPA DE MORELOS'),\n",
       " (0.015189995834408592, 'departamento'),\n",
       " (0.01167134085231913, 'COYOACAN'),\n",
       " (0.011388309040512233, 'ALVARO OBREGON'),\n",
       " (0.009063489130732655, 'BENITO JUAREZ'),\n",
       " (0.005288904359785681, 'IZTAPALAPA'),\n",
       " (0.004994931226248087, 'CUAUHTEMOC'),\n",
       " (0.00470442798160583, 'LA MAGDALENA CONTRERAS'),\n",
       " (0.004406235190792975, 'TLALPAN'),\n",
       " (0.0021354067105724566, 'VENUSTIANO CARRANZA'),\n",
       " (0.0014942865361652004, 'XOCHIMILCO'),\n",
       " (0.000629901046318461, 'AZCAPOTZALCO'),\n",
       " (0.00035318308743234334, 'IZTACALCO'),\n",
       " (4.041749108773865e-05, 'MILPA ALTA'),\n",
       " (2.143779360957559e-05, 'TLAHUAC')]"
      ]
     },
     "execution_count": 24,
     "metadata": {},
     "output_type": "execute_result"
    }
   ],
   "source": [
    "sorted(zip(rf.feature_importances_, x_test.columns), reverse=True)"
   ]
  },
  {
   "cell_type": "code",
   "execution_count": 27,
   "metadata": {},
   "outputs": [],
   "source": [
    "pkl_filename = \"modelo_precios_rf.pkl\"\n",
    "with open(pkl_filename, 'wb') as file:\n",
    "    pickle.dump(rf, file)"
   ]
  }
 ],
 "metadata": {
  "colab": {
   "name": "random_tree.ipynb",
   "provenance": []
  },
  "kernelspec": {
   "display_name": "Python 3",
   "language": "python",
   "name": "python3"
  },
  "language_info": {
   "codemirror_mode": {
    "name": "ipython",
    "version": 3
   },
   "file_extension": ".py",
   "mimetype": "text/x-python",
   "name": "python",
   "nbconvert_exporter": "python",
   "pygments_lexer": "ipython3",
   "version": "3.8.8"
  }
 },
 "nbformat": 4,
 "nbformat_minor": 1
}
