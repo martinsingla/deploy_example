{
 "cells": [
  {
   "cell_type": "code",
   "execution_count": 7,
   "metadata": {},
   "outputs": [],
   "source": [
    "# Dependencies\n",
    "import pandas as pd\n",
    "import numpy as np\n",
    "import matplotlib.pyplot as plt"
   ]
  },
  {
   "cell_type": "code",
   "execution_count": 8,
   "metadata": {},
   "outputs": [
    {
     "data": {
      "text/html": [
       "<div>\n",
       "<style scoped>\n",
       "    .dataframe tbody tr th:only-of-type {\n",
       "        vertical-align: middle;\n",
       "    }\n",
       "\n",
       "    .dataframe tbody tr th {\n",
       "        vertical-align: top;\n",
       "    }\n",
       "\n",
       "    .dataframe thead th {\n",
       "        text-align: right;\n",
       "    }\n",
       "</style>\n",
       "<table border=\"1\" class=\"dataframe\">\n",
       "  <thead>\n",
       "    <tr style=\"text-align: right;\">\n",
       "      <th></th>\n",
       "      <th>Unnamed: 0</th>\n",
       "      <th>precio_m2</th>\n",
       "      <th>superficie_total</th>\n",
       "      <th>categoria</th>\n",
       "      <th>dormitorios</th>\n",
       "      <th>baños</th>\n",
       "      <th>cocheras</th>\n",
       "      <th>colonia</th>\n",
       "      <th>alcaldia</th>\n",
       "      <th>lat</th>\n",
       "      <th>lng</th>\n",
       "    </tr>\n",
       "  </thead>\n",
       "  <tbody>\n",
       "    <tr>\n",
       "      <th>0</th>\n",
       "      <td>0</td>\n",
       "      <td>60144.927536</td>\n",
       "      <td>138.0</td>\n",
       "      <td>departamento</td>\n",
       "      <td>2.0</td>\n",
       "      <td>3.0</td>\n",
       "      <td>2.0</td>\n",
       "      <td>POLANCO REFORMA (POLANCO)</td>\n",
       "      <td>MIGUEL HIDALGO</td>\n",
       "      <td>19.437734</td>\n",
       "      <td>-99.192631</td>\n",
       "    </tr>\n",
       "    <tr>\n",
       "      <th>1</th>\n",
       "      <td>1</td>\n",
       "      <td>104651.162791</td>\n",
       "      <td>172.0</td>\n",
       "      <td>departamento</td>\n",
       "      <td>2.0</td>\n",
       "      <td>2.0</td>\n",
       "      <td>2.0</td>\n",
       "      <td>POLANCO REFORMA (POLANCO)</td>\n",
       "      <td>MIGUEL HIDALGO</td>\n",
       "      <td>19.432741</td>\n",
       "      <td>-99.198231</td>\n",
       "    </tr>\n",
       "    <tr>\n",
       "      <th>2</th>\n",
       "      <td>2</td>\n",
       "      <td>85919.540230</td>\n",
       "      <td>174.0</td>\n",
       "      <td>departamento</td>\n",
       "      <td>2.0</td>\n",
       "      <td>2.0</td>\n",
       "      <td>2.0</td>\n",
       "      <td>POLANCO REFORMA (POLANCO)</td>\n",
       "      <td>MIGUEL HIDALGO</td>\n",
       "      <td>19.436965</td>\n",
       "      <td>-99.197446</td>\n",
       "    </tr>\n",
       "    <tr>\n",
       "      <th>3</th>\n",
       "      <td>3</td>\n",
       "      <td>5092.622951</td>\n",
       "      <td>183.0</td>\n",
       "      <td>departamento</td>\n",
       "      <td>3.0</td>\n",
       "      <td>3.0</td>\n",
       "      <td>2.0</td>\n",
       "      <td>POLANCO REFORMA (POLANCO)</td>\n",
       "      <td>MIGUEL HIDALGO</td>\n",
       "      <td>19.435298</td>\n",
       "      <td>-99.200454</td>\n",
       "    </tr>\n",
       "    <tr>\n",
       "      <th>4</th>\n",
       "      <td>4</td>\n",
       "      <td>93125.000000</td>\n",
       "      <td>160.0</td>\n",
       "      <td>departamento</td>\n",
       "      <td>2.0</td>\n",
       "      <td>2.0</td>\n",
       "      <td>2.0</td>\n",
       "      <td>POLANCO REFORMA (POLANCO)</td>\n",
       "      <td>MIGUEL HIDALGO</td>\n",
       "      <td>19.434020</td>\n",
       "      <td>-99.195601</td>\n",
       "    </tr>\n",
       "  </tbody>\n",
       "</table>\n",
       "</div>"
      ],
      "text/plain": [
       "   Unnamed: 0      precio_m2  superficie_total     categoria  dormitorios  \\\n",
       "0           0   60144.927536             138.0  departamento          2.0   \n",
       "1           1  104651.162791             172.0  departamento          2.0   \n",
       "2           2   85919.540230             174.0  departamento          2.0   \n",
       "3           3    5092.622951             183.0  departamento          3.0   \n",
       "4           4   93125.000000             160.0  departamento          2.0   \n",
       "\n",
       "   baños  cocheras                    colonia        alcaldia        lat  \\\n",
       "0    3.0       2.0  POLANCO REFORMA (POLANCO)  MIGUEL HIDALGO  19.437734   \n",
       "1    2.0       2.0  POLANCO REFORMA (POLANCO)  MIGUEL HIDALGO  19.432741   \n",
       "2    2.0       2.0  POLANCO REFORMA (POLANCO)  MIGUEL HIDALGO  19.436965   \n",
       "3    3.0       2.0  POLANCO REFORMA (POLANCO)  MIGUEL HIDALGO  19.435298   \n",
       "4    2.0       2.0  POLANCO REFORMA (POLANCO)  MIGUEL HIDALGO  19.434020   \n",
       "\n",
       "         lng  \n",
       "0 -99.192631  \n",
       "1 -99.198231  \n",
       "2 -99.197446  \n",
       "3 -99.200454  \n",
       "4 -99.195601  "
      ]
     },
     "execution_count": 8,
     "metadata": {},
     "output_type": "execute_result"
    }
   ],
   "source": [
    "data = pd.read_csv('../FINAL PROJECT/03_data_total.csv')\n",
    "data.head()"
   ]
  },
  {
   "cell_type": "code",
   "execution_count": 9,
   "metadata": {},
   "outputs": [
    {
     "data": {
      "text/plain": [
       "Unnamed: 0          9300\n",
       "precio_m2           9180\n",
       "superficie_total    9298\n",
       "categoria           9300\n",
       "dormitorios         9267\n",
       "baños               9264\n",
       "cocheras            9184\n",
       "colonia             9300\n",
       "alcaldia            9300\n",
       "lat                 9300\n",
       "lng                 9300\n",
       "dtype: int64"
      ]
     },
     "execution_count": 9,
     "metadata": {},
     "output_type": "execute_result"
    }
   ],
   "source": [
    "data.count()"
   ]
  },
  {
   "cell_type": "code",
   "execution_count": 10,
   "metadata": {},
   "outputs": [],
   "source": [
    "# Drop all rows with missing information\n",
    "data = data.dropna(how='any')"
   ]
  },
  {
   "cell_type": "code",
   "execution_count": 11,
   "metadata": {},
   "outputs": [
    {
     "data": {
      "text/plain": [
       "Unnamed: 0          9058\n",
       "precio_m2           9058\n",
       "superficie_total    9058\n",
       "categoria           9058\n",
       "dormitorios         9058\n",
       "baños               9058\n",
       "cocheras            9058\n",
       "colonia             9058\n",
       "alcaldia            9058\n",
       "lat                 9058\n",
       "lng                 9058\n",
       "dtype: int64"
      ]
     },
     "execution_count": 11,
     "metadata": {},
     "output_type": "execute_result"
    }
   ],
   "source": [
    "data.count()"
   ]
  },
  {
   "cell_type": "code",
   "execution_count": 14,
   "metadata": {},
   "outputs": [
    {
     "data": {
      "text/plain": [
       "Unnamed: 0            int64\n",
       "precio_m2           float64\n",
       "superficie_total    float64\n",
       "categoria            object\n",
       "dormitorios         float64\n",
       "baños               float64\n",
       "cocheras            float64\n",
       "colonia              object\n",
       "alcaldia             object\n",
       "lat                 float64\n",
       "lng                 float64\n",
       "dtype: object"
      ]
     },
     "execution_count": 14,
     "metadata": {},
     "output_type": "execute_result"
    }
   ],
   "source": [
    "data.dtypes"
   ]
  },
  {
   "cell_type": "code",
   "execution_count": 15,
   "metadata": {},
   "outputs": [
    {
     "data": {
      "text/html": [
       "<div>\n",
       "<style scoped>\n",
       "    .dataframe tbody tr th:only-of-type {\n",
       "        vertical-align: middle;\n",
       "    }\n",
       "\n",
       "    .dataframe tbody tr th {\n",
       "        vertical-align: top;\n",
       "    }\n",
       "\n",
       "    .dataframe thead th {\n",
       "        text-align: right;\n",
       "    }\n",
       "</style>\n",
       "<table border=\"1\" class=\"dataframe\">\n",
       "  <thead>\n",
       "    <tr style=\"text-align: right;\">\n",
       "      <th></th>\n",
       "      <th>Unnamed: 0</th>\n",
       "      <th>precio_m2</th>\n",
       "      <th>superficie_total</th>\n",
       "      <th>dormitorios</th>\n",
       "      <th>baños</th>\n",
       "      <th>cocheras</th>\n",
       "      <th>lat</th>\n",
       "      <th>lng</th>\n",
       "    </tr>\n",
       "  </thead>\n",
       "  <tbody>\n",
       "    <tr>\n",
       "      <th>count</th>\n",
       "      <td>9058.000000</td>\n",
       "      <td>9.058000e+03</td>\n",
       "      <td>9058.000000</td>\n",
       "      <td>9058.000000</td>\n",
       "      <td>9058.000000</td>\n",
       "      <td>9058.000000</td>\n",
       "      <td>9058.000000</td>\n",
       "      <td>9058.000000</td>\n",
       "    </tr>\n",
       "    <tr>\n",
       "      <th>mean</th>\n",
       "      <td>4645.476374</td>\n",
       "      <td>5.093329e+04</td>\n",
       "      <td>261.141607</td>\n",
       "      <td>2.874917</td>\n",
       "      <td>2.570291</td>\n",
       "      <td>2.467653</td>\n",
       "      <td>19.387010</td>\n",
       "      <td>-99.189194</td>\n",
       "    </tr>\n",
       "    <tr>\n",
       "      <th>std</th>\n",
       "      <td>2680.694265</td>\n",
       "      <td>3.655735e+05</td>\n",
       "      <td>344.474417</td>\n",
       "      <td>1.112690</td>\n",
       "      <td>1.193571</td>\n",
       "      <td>5.358939</td>\n",
       "      <td>0.050181</td>\n",
       "      <td>0.049376</td>\n",
       "    </tr>\n",
       "    <tr>\n",
       "      <th>min</th>\n",
       "      <td>0.000000</td>\n",
       "      <td>1.754386e-02</td>\n",
       "      <td>1.000000</td>\n",
       "      <td>0.000000</td>\n",
       "      <td>0.000000</td>\n",
       "      <td>0.000000</td>\n",
       "      <td>19.200199</td>\n",
       "      <td>-99.330706</td>\n",
       "    </tr>\n",
       "    <tr>\n",
       "      <th>25%</th>\n",
       "      <td>2319.250000</td>\n",
       "      <td>2.929392e+04</td>\n",
       "      <td>90.000000</td>\n",
       "      <td>2.000000</td>\n",
       "      <td>2.000000</td>\n",
       "      <td>1.000000</td>\n",
       "      <td>19.356860</td>\n",
       "      <td>-99.221199</td>\n",
       "    </tr>\n",
       "    <tr>\n",
       "      <th>50%</th>\n",
       "      <td>4651.500000</td>\n",
       "      <td>4.262229e+04</td>\n",
       "      <td>150.000000</td>\n",
       "      <td>3.000000</td>\n",
       "      <td>2.000000</td>\n",
       "      <td>2.000000</td>\n",
       "      <td>19.386070</td>\n",
       "      <td>-99.186050</td>\n",
       "    </tr>\n",
       "    <tr>\n",
       "      <th>75%</th>\n",
       "      <td>6962.750000</td>\n",
       "      <td>5.608847e+04</td>\n",
       "      <td>299.000000</td>\n",
       "      <td>3.000000</td>\n",
       "      <td>3.000000</td>\n",
       "      <td>3.000000</td>\n",
       "      <td>19.424938</td>\n",
       "      <td>-99.157175</td>\n",
       "    </tr>\n",
       "    <tr>\n",
       "      <th>max</th>\n",
       "      <td>9299.000000</td>\n",
       "      <td>3.000000e+07</td>\n",
       "      <td>7000.000000</td>\n",
       "      <td>18.000000</td>\n",
       "      <td>12.000000</td>\n",
       "      <td>322.000000</td>\n",
       "      <td>19.583330</td>\n",
       "      <td>-98.995812</td>\n",
       "    </tr>\n",
       "  </tbody>\n",
       "</table>\n",
       "</div>"
      ],
      "text/plain": [
       "        Unnamed: 0     precio_m2  superficie_total  dormitorios        baños  \\\n",
       "count  9058.000000  9.058000e+03       9058.000000  9058.000000  9058.000000   \n",
       "mean   4645.476374  5.093329e+04        261.141607     2.874917     2.570291   \n",
       "std    2680.694265  3.655735e+05        344.474417     1.112690     1.193571   \n",
       "min       0.000000  1.754386e-02          1.000000     0.000000     0.000000   \n",
       "25%    2319.250000  2.929392e+04         90.000000     2.000000     2.000000   \n",
       "50%    4651.500000  4.262229e+04        150.000000     3.000000     2.000000   \n",
       "75%    6962.750000  5.608847e+04        299.000000     3.000000     3.000000   \n",
       "max    9299.000000  3.000000e+07       7000.000000    18.000000    12.000000   \n",
       "\n",
       "          cocheras          lat          lng  \n",
       "count  9058.000000  9058.000000  9058.000000  \n",
       "mean      2.467653    19.387010   -99.189194  \n",
       "std       5.358939     0.050181     0.049376  \n",
       "min       0.000000    19.200199   -99.330706  \n",
       "25%       1.000000    19.356860   -99.221199  \n",
       "50%       2.000000    19.386070   -99.186050  \n",
       "75%       3.000000    19.424938   -99.157175  \n",
       "max     322.000000    19.583330   -98.995812  "
      ]
     },
     "execution_count": 15,
     "metadata": {},
     "output_type": "execute_result"
    }
   ],
   "source": [
    "data.describe()"
   ]
  },
  {
   "cell_type": "code",
   "execution_count": 17,
   "metadata": {},
   "outputs": [
    {
     "data": {
      "image/png": "[encoded data removed]",
      "text/plain": [
       "<Figure size 432x288 with 1 Axes>"
      ]
     },
     "metadata": {
      "needs_background": "light"
     },
     "output_type": "display_data"
    }
   ],
   "source": [
    "precio = data['precio_m2']\n",
    "fig1, ax1 = plt.subplots()\n",
    "ax1.boxplot(precio)\n",
    "plt.show()"
   ]
  },
  {
   "cell_type": "code",
   "execution_count": 23,
   "metadata": {},
   "outputs": [
    {
     "name": "stdout",
     "output_type": "stream",
     "text": [
      "The lower quartile of precio is: 29293.915719696968\n",
      "The upper quartile of precio is: 56088.471713471714\n",
      "The interquartile range of precio is: 26794.555993774746\n",
      "The the median of precio is: 42622.28712213487 \n",
      "Values below -10897.91827096515 could be outliers.\n",
      "Values above 96280.30570413383 could be outliers.\n"
     ]
    }
   ],
   "source": [
    "# If the data is in a dataframe, we use pandas to give quartile calculations\n",
    "quartiles = precio.quantile([.25,.5,.75])\n",
    "lowerq = quartiles[0.25]\n",
    "upperq = quartiles[0.75]\n",
    "iqr = upperq-lowerq\n",
    "\n",
    "print(f\"The lower quartile of precio is: {lowerq}\")\n",
    "print(f\"The upper quartile of precio is: {upperq}\")\n",
    "print(f\"The interquartile range of precio is: {iqr}\")\n",
    "print(f\"The the median of precio is: {quartiles[0.5]} \")\n",
    "\n",
    "lower_bound = lowerq - (1.5*iqr)\n",
    "upper_bound = upperq + (1.5*iqr)\n",
    "print(f\"Values below {lower_bound} could be outliers.\")\n",
    "print(f\"Values above {upper_bound} could be outliers.\")"
   ]
  },
  {
   "cell_type": "code",
   "execution_count": 29,
   "metadata": {},
   "outputs": [
    {
     "data": {
      "text/plain": [
       "Unnamed: 0          8782\n",
       "precio_m2           8782\n",
       "superficie_total    8782\n",
       "categoria           8782\n",
       "dormitorios         8782\n",
       "baños               8782\n",
       "cocheras            8782\n",
       "colonia             8782\n",
       "alcaldia            8782\n",
       "lat                 8782\n",
       "lng                 8782\n",
       "dtype: int64"
      ]
     },
     "execution_count": 29,
     "metadata": {},
     "output_type": "execute_result"
    }
   ],
   "source": [
    "#Clean data removing outliers\n",
    "data2=data.loc[(data['precio_m2']>=-10897.91827096515 ) & (data['precio_m2']<= 96280.30570413383),:].sort_values('precio_m2', ascending= False)\n",
    "data2.count()\n"
   ]
  },
  {
   "cell_type": "code",
   "execution_count": 30,
   "metadata": {},
   "outputs": [
    {
     "data": {
      "image/png": "[encoded data removed]",
      "text/plain": [
       "<Figure size 432x288 with 1 Axes>"
      ]
     },
     "metadata": {
      "needs_background": "light"
     },
     "output_type": "display_data"
    }
   ],
   "source": [
    "superficie = data2['superficie_total']\n",
    "\n",
    "fig1, ax1 = plt.subplots()\n",
    "ax1.boxplot(superficie)\n",
    "plt.show()"
   ]
  },
  {
   "cell_type": "code",
   "execution_count": 31,
   "metadata": {},
   "outputs": [
    {
     "name": "stdout",
     "output_type": "stream",
     "text": [
      "The lower quartile of superficie is: 89.0\n",
      "The upper quartile of superficie is: 300.0\n",
      "The interquartile range of superficie is: 211.0\n",
      "The the median of superficie is: 150.0 \n",
      "Values below -227.5 could be outliers.\n",
      "Values above 616.5 could be outliers.\n"
     ]
    }
   ],
   "source": [
    "# If the data is in a dataframe, we use pandas to give quartile calculations\n",
    "quartiles = superficie.quantile([.25,.5,.75])\n",
    "lowerq = quartiles[0.25]\n",
    "upperq = quartiles[0.75]\n",
    "iqr = upperq-lowerq\n",
    "\n",
    "print(f\"The lower quartile of superficie is: {lowerq}\")\n",
    "print(f\"The upper quartile of superficie is: {upperq}\")\n",
    "print(f\"The interquartile range of superficie is: {iqr}\")\n",
    "print(f\"The the median of superficie is: {quartiles[0.5]} \")\n",
    "\n",
    "lower_bound = lowerq - (1.5*iqr)\n",
    "upper_bound = upperq + (1.5*iqr)\n",
    "print(f\"Values below {lower_bound} could be outliers.\")\n",
    "print(f\"Values above {upper_bound} could be outliers.\")"
   ]
  },
  {
   "cell_type": "code",
   "execution_count": 33,
   "metadata": {},
   "outputs": [
    {
     "data": {
      "text/plain": [
       "Unnamed: 0          7963\n",
       "precio_m2           7963\n",
       "superficie_total    7963\n",
       "categoria           7963\n",
       "dormitorios         7963\n",
       "baños               7963\n",
       "cocheras            7963\n",
       "colonia             7963\n",
       "alcaldia            7963\n",
       "lat                 7963\n",
       "lng                 7963\n",
       "dtype: int64"
      ]
     },
     "execution_count": 33,
     "metadata": {},
     "output_type": "execute_result"
    }
   ],
   "source": [
    "#Clean data removing outliers\n",
    "data3=data2.loc[(data2['superficie_total']>=-227.5 ) & (data2['superficie_total']<= 616.5),:].sort_values('superficie_total', ascending= False)\n",
    "data3.count()\n"
   ]
  },
  {
   "cell_type": "code",
   "execution_count": 34,
   "metadata": {},
   "outputs": [
    {
     "data": {
      "image/png": "[encoded data removed]",
      "text/plain": [
       "<Figure size 432x288 with 1 Axes>"
      ]
     },
     "metadata": {
      "needs_background": "light"
     },
     "output_type": "display_data"
    }
   ],
   "source": [
    "dormitorios = data3['dormitorios']\n",
    "\n",
    "fig1, ax1 = plt.subplots()\n",
    "ax1.boxplot(dormitorios)\n",
    "plt.show()"
   ]
  },
  {
   "cell_type": "code",
   "execution_count": 35,
   "metadata": {},
   "outputs": [
    {
     "name": "stdout",
     "output_type": "stream",
     "text": [
      "The lower quartile of dormitorios is: 2.0\n",
      "The upper quartile of dormitorios is: 3.0\n",
      "The interquartile range of dormitorios is: 1.0\n",
      "The the median of dormitorios is: 3.0 \n",
      "Values below 0.5 could be outliers.\n",
      "Values above 4.5 could be outliers.\n"
     ]
    }
   ],
   "source": [
    "# If the data is in a dataframe, we use pandas to give quartile calculations\n",
    "quartiles = dormitorios.quantile([.25,.5,.75])\n",
    "lowerq = quartiles[0.25]\n",
    "upperq = quartiles[0.75]\n",
    "iqr = upperq-lowerq\n",
    "\n",
    "print(f\"The lower quartile of dormitorios is: {lowerq}\")\n",
    "print(f\"The upper quartile of dormitorios is: {upperq}\")\n",
    "print(f\"The interquartile range of dormitorios is: {iqr}\")\n",
    "print(f\"The the median of dormitorios is: {quartiles[0.5]} \")\n",
    "\n",
    "lower_bound = lowerq - (1.5*iqr)\n",
    "upper_bound = upperq + (1.5*iqr)\n",
    "print(f\"Values below {lower_bound} could be outliers.\")\n",
    "print(f\"Values above {upper_bound} could be outliers.\")"
   ]
  },
  {
   "cell_type": "code",
   "execution_count": 36,
   "metadata": {},
   "outputs": [
    {
     "data": {
      "text/plain": [
       "Unnamed: 0          7627\n",
       "precio_m2           7627\n",
       "superficie_total    7627\n",
       "categoria           7627\n",
       "dormitorios         7627\n",
       "baños               7627\n",
       "cocheras            7627\n",
       "colonia             7627\n",
       "alcaldia            7627\n",
       "lat                 7627\n",
       "lng                 7627\n",
       "dtype: int64"
      ]
     },
     "execution_count": 36,
     "metadata": {},
     "output_type": "execute_result"
    }
   ],
   "source": [
    "#Clean data removing outliers\n",
    "data4=data3.loc[(data3['dormitorios']>=0.5) & (data3['dormitorios']<= 4.5),:].sort_values('dormitorios', ascending= False)\n",
    "data4.count()"
   ]
  },
  {
   "cell_type": "code",
   "execution_count": 37,
   "metadata": {},
   "outputs": [
    {
     "data": {
      "image/png": "[encoded data removed]",
      "text/plain": [
       "<Figure size 432x288 with 1 Axes>"
      ]
     },
     "metadata": {
      "needs_background": "light"
     },
     "output_type": "display_data"
    }
   ],
   "source": [
    "baños = data4['baños']\n",
    "fig1, ax1 = plt.subplots()\n",
    "ax1.boxplot(baños)\n",
    "plt.show()"
   ]
  },
  {
   "cell_type": "code",
   "execution_count": 38,
   "metadata": {},
   "outputs": [
    {
     "name": "stdout",
     "output_type": "stream",
     "text": [
      "The lower quartile of dormitorios is: 2.0\n",
      "The upper quartile of dormitorios is: 3.0\n",
      "The interquartile range of dormitorios is: 1.0\n",
      "The the median of dormitorios is: 2.0 \n",
      "Values below 0.5 could be outliers.\n",
      "Values above 4.5 could be outliers.\n"
     ]
    }
   ],
   "source": [
    "# If the data is in a dataframe, we use pandas to give quartile calculations\n",
    "quartiles = baños.quantile([.25,.5,.75])\n",
    "lowerq = quartiles[0.25]\n",
    "upperq = quartiles[0.75]\n",
    "iqr = upperq-lowerq\n",
    "\n",
    "print(f\"The lower quartile of dormitorios is: {lowerq}\")\n",
    "print(f\"The upper quartile of dormitorios is: {upperq}\")\n",
    "print(f\"The interquartile range of dormitorios is: {iqr}\")\n",
    "print(f\"The the median of dormitorios is: {quartiles[0.5]} \")\n",
    "\n",
    "lower_bound = lowerq - (1.5*iqr)\n",
    "upper_bound = upperq + (1.5*iqr)\n",
    "print(f\"Values below {lower_bound} could be outliers.\")\n",
    "print(f\"Values above {upper_bound} could be outliers.\")"
   ]
  },
  {
   "cell_type": "code",
   "execution_count": 39,
   "metadata": {},
   "outputs": [
    {
     "data": {
      "text/plain": [
       "Unnamed: 0          7495\n",
       "precio_m2           7495\n",
       "superficie_total    7495\n",
       "categoria           7495\n",
       "dormitorios         7495\n",
       "baños               7495\n",
       "cocheras            7495\n",
       "colonia             7495\n",
       "alcaldia            7495\n",
       "lat                 7495\n",
       "lng                 7495\n",
       "dtype: int64"
      ]
     },
     "execution_count": 39,
     "metadata": {},
     "output_type": "execute_result"
    }
   ],
   "source": [
    "#Clean data removing outliers\n",
    "data5=data4.loc[(data4['baños']>=0.5) & (data4['baños']<= 4.5),:].sort_values('baños', ascending= False)\n",
    "data5.count()"
   ]
  },
  {
   "cell_type": "code",
   "execution_count": 40,
   "metadata": {},
   "outputs": [
    {
     "data": {
      "image/png": "[encoded data removed]",
      "text/plain": [
       "<Figure size 432x288 with 1 Axes>"
      ]
     },
     "metadata": {
      "needs_background": "light"
     },
     "output_type": "display_data"
    }
   ],
   "source": [
    "cocheras = data5['cocheras']\n",
    "\n",
    "fig1, ax1 = plt.subplots()\n",
    "ax1.boxplot(cocheras)\n",
    "plt.show()"
   ]
  },
  {
   "cell_type": "code",
   "execution_count": 41,
   "metadata": {},
   "outputs": [
    {
     "name": "stdout",
     "output_type": "stream",
     "text": [
      "The lower quartile of dormitorios is: 1.0\n",
      "The upper quartile of dormitorios is: 2.0\n",
      "The interquartile range of dormitorios is: 1.0\n",
      "The the median of dormitorios is: 2.0 \n",
      "Values below -0.5 could be outliers.\n",
      "Values above 3.5 could be outliers.\n"
     ]
    }
   ],
   "source": [
    "# If the data is in a dataframe, we use pandas to give quartile calculations\n",
    "quartiles = cocheras.quantile([.25,.5,.75])\n",
    "lowerq = quartiles[0.25]\n",
    "upperq = quartiles[0.75]\n",
    "iqr = upperq-lowerq\n",
    "\n",
    "print(f\"The lower quartile of dormitorios is: {lowerq}\")\n",
    "print(f\"The upper quartile of dormitorios is: {upperq}\")\n",
    "print(f\"The interquartile range of dormitorios is: {iqr}\")\n",
    "print(f\"The the median of dormitorios is: {quartiles[0.5]} \")\n",
    "\n",
    "lower_bound = lowerq - (1.5*iqr)\n",
    "upper_bound = upperq + (1.5*iqr)\n",
    "print(f\"Values below {lower_bound} could be outliers.\")\n",
    "print(f\"Values above {upper_bound} could be outliers.\")"
   ]
  },
  {
   "cell_type": "code",
   "execution_count": 42,
   "metadata": {},
   "outputs": [
    {
     "data": {
      "text/plain": [
       "Unnamed: 0          6813\n",
       "precio_m2           6813\n",
       "superficie_total    6813\n",
       "categoria           6813\n",
       "dormitorios         6813\n",
       "baños               6813\n",
       "cocheras            6813\n",
       "colonia             6813\n",
       "alcaldia            6813\n",
       "lat                 6813\n",
       "lng                 6813\n",
       "dtype: int64"
      ]
     },
     "execution_count": 42,
     "metadata": {},
     "output_type": "execute_result"
    }
   ],
   "source": [
    "#Clean data removing outliers\n",
    "data6=data5.loc[(data5['cocheras']>=-0.5) & (data5['cocheras']<= 3.5),:].sort_values('cocheras', ascending= False)\n",
    "data6.count()"
   ]
  },
  {
   "cell_type": "code",
   "execution_count": 43,
   "metadata": {},
   "outputs": [
    {
     "data": {
      "text/html": [
       "<div>\n",
       "<style scoped>\n",
       "    .dataframe tbody tr th:only-of-type {\n",
       "        vertical-align: middle;\n",
       "    }\n",
       "\n",
       "    .dataframe tbody tr th {\n",
       "        vertical-align: top;\n",
       "    }\n",
       "\n",
       "    .dataframe thead th {\n",
       "        text-align: right;\n",
       "    }\n",
       "</style>\n",
       "<table border=\"1\" class=\"dataframe\">\n",
       "  <thead>\n",
       "    <tr style=\"text-align: right;\">\n",
       "      <th></th>\n",
       "      <th>Unnamed: 0</th>\n",
       "      <th>precio_m2</th>\n",
       "      <th>superficie_total</th>\n",
       "      <th>dormitorios</th>\n",
       "      <th>baños</th>\n",
       "      <th>cocheras</th>\n",
       "      <th>lat</th>\n",
       "      <th>lng</th>\n",
       "    </tr>\n",
       "  </thead>\n",
       "  <tbody>\n",
       "    <tr>\n",
       "      <th>count</th>\n",
       "      <td>6813.000000</td>\n",
       "      <td>6813.000000</td>\n",
       "      <td>6813.000000</td>\n",
       "      <td>6813.000000</td>\n",
       "      <td>6813.000000</td>\n",
       "      <td>6813.000000</td>\n",
       "      <td>6813.000000</td>\n",
       "      <td>6813.000000</td>\n",
       "    </tr>\n",
       "    <tr>\n",
       "      <th>mean</th>\n",
       "      <td>4942.826655</td>\n",
       "      <td>43468.255094</td>\n",
       "      <td>150.910916</td>\n",
       "      <td>2.550418</td>\n",
       "      <td>2.177176</td>\n",
       "      <td>1.656392</td>\n",
       "      <td>19.391536</td>\n",
       "      <td>-99.183203</td>\n",
       "    </tr>\n",
       "    <tr>\n",
       "      <th>std</th>\n",
       "      <td>2621.558066</td>\n",
       "      <td>19603.577197</td>\n",
       "      <td>100.124761</td>\n",
       "      <td>0.730986</td>\n",
       "      <td>0.758350</td>\n",
       "      <td>0.792157</td>\n",
       "      <td>0.048897</td>\n",
       "      <td>0.048290</td>\n",
       "    </tr>\n",
       "    <tr>\n",
       "      <th>min</th>\n",
       "      <td>0.000000</td>\n",
       "      <td>0.017544</td>\n",
       "      <td>12.160000</td>\n",
       "      <td>1.000000</td>\n",
       "      <td>1.000000</td>\n",
       "      <td>0.000000</td>\n",
       "      <td>19.200199</td>\n",
       "      <td>-99.327320</td>\n",
       "    </tr>\n",
       "    <tr>\n",
       "      <th>25%</th>\n",
       "      <td>2963.000000</td>\n",
       "      <td>32000.000000</td>\n",
       "      <td>80.000000</td>\n",
       "      <td>2.000000</td>\n",
       "      <td>2.000000</td>\n",
       "      <td>1.000000</td>\n",
       "      <td>19.362330</td>\n",
       "      <td>-99.208290</td>\n",
       "    </tr>\n",
       "    <tr>\n",
       "      <th>50%</th>\n",
       "      <td>5080.000000</td>\n",
       "      <td>43431.946746</td>\n",
       "      <td>119.000000</td>\n",
       "      <td>3.000000</td>\n",
       "      <td>2.000000</td>\n",
       "      <td>2.000000</td>\n",
       "      <td>19.388370</td>\n",
       "      <td>-99.176980</td>\n",
       "    </tr>\n",
       "    <tr>\n",
       "      <th>75%</th>\n",
       "      <td>7190.000000</td>\n",
       "      <td>55620.472073</td>\n",
       "      <td>187.000000</td>\n",
       "      <td>3.000000</td>\n",
       "      <td>3.000000</td>\n",
       "      <td>2.000000</td>\n",
       "      <td>19.430751</td>\n",
       "      <td>-99.153248</td>\n",
       "    </tr>\n",
       "    <tr>\n",
       "      <th>max</th>\n",
       "      <td>9299.000000</td>\n",
       "      <td>96153.846154</td>\n",
       "      <td>614.000000</td>\n",
       "      <td>4.000000</td>\n",
       "      <td>4.500000</td>\n",
       "      <td>3.000000</td>\n",
       "      <td>19.583330</td>\n",
       "      <td>-98.996040</td>\n",
       "    </tr>\n",
       "  </tbody>\n",
       "</table>\n",
       "</div>"
      ],
      "text/plain": [
       "        Unnamed: 0     precio_m2  superficie_total  dormitorios        baños  \\\n",
       "count  6813.000000   6813.000000       6813.000000  6813.000000  6813.000000   \n",
       "mean   4942.826655  43468.255094        150.910916     2.550418     2.177176   \n",
       "std    2621.558066  19603.577197        100.124761     0.730986     0.758350   \n",
       "min       0.000000      0.017544         12.160000     1.000000     1.000000   \n",
       "25%    2963.000000  32000.000000         80.000000     2.000000     2.000000   \n",
       "50%    5080.000000  43431.946746        119.000000     3.000000     2.000000   \n",
       "75%    7190.000000  55620.472073        187.000000     3.000000     3.000000   \n",
       "max    9299.000000  96153.846154        614.000000     4.000000     4.500000   \n",
       "\n",
       "          cocheras          lat          lng  \n",
       "count  6813.000000  6813.000000  6813.000000  \n",
       "mean      1.656392    19.391536   -99.183203  \n",
       "std       0.792157     0.048897     0.048290  \n",
       "min       0.000000    19.200199   -99.327320  \n",
       "25%       1.000000    19.362330   -99.208290  \n",
       "50%       2.000000    19.388370   -99.176980  \n",
       "75%       2.000000    19.430751   -99.153248  \n",
       "max       3.000000    19.583330   -98.996040  "
      ]
     },
     "execution_count": 43,
     "metadata": {},
     "output_type": "execute_result"
    }
   ],
   "source": [
    "data6.describe()"
   ]
  },
  {
   "cell_type": "code",
   "execution_count": 44,
   "metadata": {},
   "outputs": [],
   "source": [
    "pd.DataFrame(data6).to_csv('04_data_total_clean.csv')"
   ]
  },
  {
   "cell_type": "code",
   "execution_count": null,
   "metadata": {},
   "outputs": [],
   "source": []
  }
 ],
 "metadata": {
  "kernelspec": {
   "display_name": "Python 3",
   "language": "python",
   "name": "python3"
  },
  "language_info": {
   "codemirror_mode": {
    "name": "ipython",
    "version": 3
   },
   "file_extension": ".py",
   "mimetype": "text/x-python",
   "name": "python",
   "nbconvert_exporter": "python",
   "pygments_lexer": "ipython3",
   "version": "3.8.5"
  }
 },
 "nbformat": 4,
 "nbformat_minor": 4
}
